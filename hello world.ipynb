{
 "cells": [
  {
   "cell_type": "code",
   "execution_count": 1,
   "id": "e1faae9a",
   "metadata": {},
   "outputs": [
    {
     "name": "stdout",
     "output_type": "stream",
     "text": [
      "1\n",
      "2\n",
      "hello\n",
      "4\n",
      "world\n",
      "hello\n",
      "7\n",
      "8\n",
      "hello\n",
      "world\n",
      "11\n",
      "hello\n",
      "13\n",
      "14\n",
      "hello world\n",
      "16\n",
      "17\n",
      "hello\n",
      "19\n",
      "world\n",
      "hello\n",
      "22\n",
      "23\n",
      "hello\n",
      "world\n",
      "26\n",
      "hello\n",
      "28\n",
      "29\n",
      "hello world\n",
      "31\n",
      "32\n",
      "hello\n",
      "34\n",
      "world\n",
      "hello\n",
      "37\n",
      "38\n",
      "hello\n",
      "world\n",
      "41\n",
      "hello\n",
      "43\n",
      "44\n",
      "hello world\n",
      "46\n",
      "47\n",
      "hello\n",
      "49\n",
      "world\n",
      "hello\n",
      "52\n",
      "53\n",
      "hello\n",
      "world\n",
      "56\n",
      "hello\n",
      "58\n",
      "59\n",
      "hello world\n",
      "61\n",
      "62\n",
      "hello\n",
      "64\n",
      "world\n",
      "hello\n",
      "67\n",
      "68\n",
      "hello\n",
      "world\n",
      "71\n",
      "hello\n",
      "73\n",
      "74\n",
      "hello world\n",
      "76\n",
      "77\n",
      "hello\n",
      "79\n",
      "world\n",
      "hello\n",
      "82\n",
      "83\n",
      "hello\n",
      "world\n",
      "86\n",
      "hello\n",
      "88\n",
      "89\n",
      "hello world\n",
      "91\n",
      "92\n",
      "hello\n",
      "94\n",
      "world\n",
      "hello\n",
      "97\n",
      "98\n",
      "hello\n",
      "world\n"
     ]
    }
   ],
   "source": [
    "for i in range (1,101):\n",
    "    if i%15==0:\n",
    "        print('hello world')\n",
    "    elif i%3==0:\n",
    "        print ('hello')\n",
    "    elif i%5==0:\n",
    "        print ('world')\n",
    "    else:\n",
    "        print (i)"
   ]
  },
  {
   "cell_type": "code",
   "execution_count": 8,
   "id": "097a9e9b",
   "metadata": {},
   "outputs": [
    {
     "name": "stdout",
     "output_type": "stream",
     "text": [
      "(1, 2, 'python', 4, 'world', 'python', 7, 8, 'python', 'world', 11, 'python', 13, 14, 'python works', 16, 17, 'python', 19, 'world', 'python', 22, 23, 'python', 'world', 26, 'python', 28, 29, 'python works', 31, 32, 'python', 34, 'world', 'python', 37, 38, 'python', 'world', 41, 'python', 43, 44, 'python works', 46, 47, 'python', 49, 'world', 'python', 52, 53, 'python', 'world', 56, 'python', 58, 59, 'python works', 61, 62, 'python', 64, 'world', 'python', 67, 68, 'python', 'world', 71, 'python', 73, 74, 'python works', 76, 77, 'python', 79, 'world', 'python', 82, 83, 'python', 'world', 86, 'python', 88, 89, 'python works', 91, 92, 'python', 94, 'world', 'python', 97, 98, 'python', 'world')\n"
     ]
    }
   ],
   "source": [
    "my_tuple=()\n",
    "my_list=[]\n",
    "\n",
    "for i in range (1,101):\n",
    "    if i%15==0:\n",
    "        my_list.append('hello world')\n",
    "    elif i%3==0:\n",
    "        my_list.append('hello')\n",
    "    elif i%5==0:\n",
    "        my_list.append('world')\n",
    "    else:\n",
    "        my_list.append(i)\n",
    "\n",
    "for i in range(len(my_list)):\n",
    "    if my_list[i]=='hello world':\n",
    "        my_list[i]='python works'\n",
    "    if my_list[i]=='hello':\n",
    "        my_list[i]='python'\n",
    "    if my_list[i]=='hello world':\n",
    "        my_list[i]='works'\n",
    "my_tuple=tuple(my_list) \n",
    "print (my_tuple)"
   ]
  },
  {
   "cell_type": "code",
   "execution_count": 12,
   "id": "5f05e33a",
   "metadata": {},
   "outputs": [
    {
     "name": "stdout",
     "output_type": "stream",
     "text": [
      "insert x: 10\n",
      "insert y: 20\n",
      "x= 20 and y= 10\n"
     ]
    }
   ],
   "source": [
    "x=input('insert x: ')\n",
    "y=input('insert y: ')\n",
    "x,y=y,x\n",
    "print (\"x=\",x,'and','y=',y)\n"
   ]
  },
  {
   "cell_type": "code",
   "execution_count": 16,
   "id": "7234c7c0",
   "metadata": {},
   "outputs": [
    {
     "name": "stdout",
     "output_type": "stream",
     "text": [
      "5.0\n"
     ]
    }
   ],
   "source": [
    "def dist(u,v):\n",
    "    distance=((u[0]-v[0])**2+(u[1]-v[1])**2)**.5\n",
    "    print (distance)\n",
    "dist((3,0),(0,4))\n",
    "    "
   ]
  },
  {
   "cell_type": "code",
   "execution_count": 19,
   "id": "5d5ed5d4",
   "metadata": {},
   "outputs": [
    {
     "name": "stdout",
     "output_type": "stream",
     "text": [
      "{'w': 4, 'r': 19, 'i': 12, 't': 19, 'e': 20, ' ': 41, 'a': 7, 'p': 8, 'o': 15, 'g': 1, 'm': 8, 'h': 11, 'n': 10, 's': 7, 'u': 7, 'b': 5, 'f': 10, '1': 2, '0': 2, '.': 3, 'l': 12, 'd': 5, 'v': 2, 'c': 1}\n"
     ]
    }
   ],
   "source": [
    "test_string=\"Write a program that prints the numbers from 1 to 100. \\\n",
    "But for multiples of three print Hello instead of the number and for the multiples of five print World. \\\n",
    "For numbers which are multiples of both three and five print HelloWorld.\".lower()\n",
    "my_dict={}\n",
    "for i in test_string:\n",
    "        my_dict[i]=my_dict.get(i,0)+1\n",
    "print (my_dict)\n",
    "        \n"
   ]
  },
  {
   "cell_type": "code",
   "execution_count": 29,
   "id": "c6dacd38",
   "metadata": {},
   "outputs": [
    {
     "name": "stdout",
     "output_type": "stream",
     "text": [
      "[58, 74, 96, 64, 10, 24, 19, 33, 86, 99, 18, 47, 88, 55, 54, 8, 79, 81, 57, 37, 1, 9, 95, 90, 98, 39, 16, 82, 92, 41, 30, 94, 5, 72, 87, 75, 53] 37\n"
     ]
    }
   ],
   "source": [
    "l = [36, 45, 58, 3, 74, 96, 64, 45, 31, 10, 24, 19, 33, 86, 99, 18, 63, 70, 85,\n",
    " 85, 63, 47, 56, 42, 70, 84, 88, 55, 20, 54, 8, 56, 51, 79, 81, 57, 37, 91,\n",
    " 1, 84, 84, 36, 66, 9, 89, 50, 42, 91, 50, 95, 90, 98, 39, 16, 82, 31, 92, 41,\n",
    " 45, 30, 66, 70, 34, 85, 94, 5, 3, 36, 72, 91, 84, 34, 87, 75, 53, 51, 20, 89, 51, 20]\n",
    "unique=[]\n",
    "for i in l:\n",
    "    if l.count(i)== 1:\n",
    "        unique.append(i)\n",
    "print (unique,len(unique))"
   ]
  },
  {
   "cell_type": "code",
   "execution_count": null,
   "id": "eb490b9c",
   "metadata": {},
   "outputs": [],
   "source": [
    "x=input('enter x: ')\n",
    "y=input('enter y: ')\n",
    "try:\n",
    "    sum=x+y"
   ]
  },
  {
   "cell_type": "code",
   "execution_count": null,
   "id": "5c585292",
   "metadata": {},
   "outputs": [],
   "source": []
  }
 ],
 "metadata": {
  "kernelspec": {
   "display_name": "Python 3 (ipykernel)",
   "language": "python",
   "name": "python3"
  },
  "language_info": {
   "codemirror_mode": {
    "name": "ipython",
    "version": 3
   },
   "file_extension": ".py",
   "mimetype": "text/x-python",
   "name": "python",
   "nbconvert_exporter": "python",
   "pygments_lexer": "ipython3",
   "version": "3.9.12"
  }
 },
 "nbformat": 4,
 "nbformat_minor": 5
}
